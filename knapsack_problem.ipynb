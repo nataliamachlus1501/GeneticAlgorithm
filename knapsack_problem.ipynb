{
 "cells": [
  {
   "cell_type": "markdown",
   "id": "2eb758c4",
   "metadata": {},
   "source": [
    "## PROBLEM PLECAKOWY"
   ]
  },
  {
   "cell_type": "code",
   "execution_count": 2,
   "id": "e6a4add1",
   "metadata": {},
   "outputs": [],
   "source": [
    "import pygad\n",
    "import numpy \n",
    "import time"
   ]
  },
  {
   "cell_type": "markdown",
   "id": "abd32408",
   "metadata": {},
   "source": [
    "## Zadanie z wykładu (problem podziału)"
   ]
  },
  {
   "cell_type": "code",
   "execution_count": 6,
   "id": "dbfdab78",
   "metadata": {},
   "outputs": [
    {
     "name": "stdout",
     "output_type": "stream",
     "text": [
      "Parameters of the best solution : [0. 1. 1. 0. 1. 1. 0. 0. 1. 1. 0. 0. 1. 1. 0.]\n",
      "Fitness value of the best solution = -0.0\n",
      "Predicted output based on the best solution : 252.0\n"
     ]
    },
    {
     "data": {
      "image/png": "[encoded data removed]",
      "text/plain": [
       "<Figure size 432x288 with 1 Axes>"
      ]
     },
     "metadata": {
      "needs_background": "light"
     },
     "output_type": "display_data"
    },
    {
     "data": {
      "image/png": "[encoded data removed]",
      "text/plain": [
       "<Figure size 432x288 with 1 Axes>"
      ]
     },
     "execution_count": 6,
     "metadata": {},
     "output_type": "execute_result"
    }
   ],
   "source": [
    "S = [1, 2, 3, 6, 10, 17, 25, 29, 30, 41, 51, 60, 70, 79, 80]\n",
    "\n",
    "#definiujemy parametry chromosomu\n",
    "#geny to liczby: 0 lub 1\n",
    "gene_space = [0, 1]\n",
    "\n",
    "#definiujemy funkcję fitness\n",
    "def fitness_func(solution, solution_idx):\n",
    "    sum1 = numpy.sum(solution * S)\n",
    "    solution_invert = 1 - solution\n",
    "    sum2 = numpy.sum(solution_invert * S)\n",
    "    fitness = -numpy.abs(sum1-sum2)\n",
    "    #lub: fitness = 1.0 / (1.0 + numpy.abs(sum1-sum2))\n",
    "    return fitness\n",
    "\n",
    "fitness_function = fitness_func\n",
    "\n",
    "#ile chromsomów w populacji\n",
    "#ile genow ma chromosom\n",
    "sol_per_pop = 10\n",
    "num_genes = len(S)\n",
    "\n",
    "#ile wylaniamy rodzicow do \"rozmanazania\" (okolo 50% populacji)\n",
    "#ile pokolen\n",
    "#ilu rodzicow zachowac (kilka procent)\n",
    "num_parents_mating = 5\n",
    "num_generations = 30\n",
    "keep_parents = 2\n",
    "\n",
    "#jaki typ selekcji rodzicow?\n",
    "#sss = steady, rws=roulette, rank = rankingowa, tournament = turniejowa\n",
    "parent_selection_type = \"sss\"\n",
    "\n",
    "#w il =u punktach robic krzyzowanie?\n",
    "crossover_type = \"single_point\"\n",
    "\n",
    "#mutacja ma dzialac na ilu procent genow?\n",
    "#trzeba pamietac ile genow ma chromosom\n",
    "mutation_type = \"random\"\n",
    "mutation_percent_genes = 8\n",
    "\n",
    "#inicjacja algorytmu z powyzszymi parametrami wpisanymi w atrybuty\n",
    "ga_instance = pygad.GA(gene_space=gene_space,\n",
    "                       num_generations=num_generations,\n",
    "                       num_parents_mating=num_parents_mating,\n",
    "                       fitness_func=fitness_function,\n",
    "                       sol_per_pop=sol_per_pop,\n",
    "                       num_genes=num_genes,\n",
    "                       parent_selection_type=parent_selection_type,\n",
    "                       keep_parents=keep_parents,\n",
    "                       crossover_type=crossover_type,\n",
    "                       mutation_type=mutation_type,\n",
    "                       mutation_percent_genes=mutation_percent_genes)\n",
    "\n",
    "#uruchomienie algorytmu\n",
    "ga_instance.run()\n",
    "\n",
    "#podsumowanie: najlepsze znalezione rozwiazanie (chromosom+ocena)\n",
    "solution, solution_fitness, solution_idx = ga_instance.best_solution()\n",
    "print(\"Parameters of the best solution : {solution}\".format(solution=solution))\n",
    "print(\"Fitness value of the best solution = {solution_fitness}\".format(solution_fitness=solution_fitness))\n",
    "\n",
    "#tutaj dodatkowo wyswietlamy sume wskazana przez jedynki\n",
    "prediction = numpy.sum(S*solution)\n",
    "print(\"Predicted output based on the best solution : {prediction}\".format(prediction=prediction))\n",
    "\n",
    "#wyswietlenie wykresu: jak zmieniala sie ocena na przestrzeni pokolen\n",
    "ga_instance.plot_fitness()\n"
   ]
  },
  {
   "cell_type": "markdown",
   "id": "b72632e3",
   "metadata": {},
   "source": [
    "## Problem plecakowy (przypomnienie z wykładu)"
   ]
  },
  {
   "cell_type": "markdown",
   "id": "3e1a1b80",
   "metadata": {},
   "source": [
    "W problemie plecakowym dana jest lista przedmiotów o wartościach i wagach. Chcemy do\n",
    "plecaka zabrać najcenniejsze rzeczy. Pytanie brzmi: jaki zestaw przedmiotów (o łącznej\n",
    "maksymalnej wadze n kg) ma największą wartość?\n"
   ]
  },
  {
   "cell_type": "markdown",
   "id": "45141098",
   "metadata": {},
   "source": [
    "## Zadanie 1"
   ]
  },
  {
   "cell_type": "markdown",
   "id": "98502ddb",
   "metadata": {},
   "source": [
    "Rozwiąż powyższy problem plecakowy w Pythonie z użyciem paczki pygad. Możesz skorzystać\n",
    "z kodu z partition_ga.py, który trzeba rozsądnie zmodyfikować. Najważniejsze jest poprawne\n",
    "napisanie funkcji fitness – wskazówki były na wykładzie.\n"
   ]
  },
  {
   "cell_type": "markdown",
   "id": "b200986f",
   "metadata": {},
   "source": [
    "## Inincjacja"
   ]
  },
  {
   "cell_type": "code",
   "execution_count": 3,
   "id": "82959594",
   "metadata": {},
   "outputs": [],
   "source": [
    "#[wartosc,waga]\n",
    "items = [\n",
    "    ['zegar',100,7],\n",
    "    ['obraz-pejzaż',300,7],\n",
    "    ['obraz-portret',200,6],\n",
    "    ['radio',40,2],\n",
    "    ['laptop',500,5],\n",
    "    ['lampka_nocna',70,6],\n",
    "    ['srebrne_sztućce',100,1],\n",
    "    ['porcelana',250,3],\n",
    "    ['figura_z_brązu',300,10],\n",
    "    ['skórzana_torebka',280,3],\n",
    "    ['odkurzacz',300,15]]\n",
    "\n",
    "max_weight = 25\n",
    "\n",
    "#definiujemy parametry chromosomu\n",
    "#geny to liczby: 0 lub 1 (nie bierzemy przedmiotu lub bierzemy)\n",
    "gene_space = [0, 1]\n",
    "\n",
    "#ile chromsomów w populacji\n",
    "#ile genow ma chromosom\n",
    "sol_per_pop = 10\n",
    "num_genes = 11\n",
    "\n",
    "#ile wylaniamy rodzicow do \"rozmanazania\" (okolo 50% populacji)\n",
    "#ile pokolen\n",
    "#ilu rodzicow zachowac co pokolenie(kilka procent)\n",
    "num_parents_mating = 5\n",
    "num_generations = 50\n",
    "keep_parents = 2\n",
    "\n",
    "#jaki typ selekcji rodzicow?\n",
    "#sss = steady, rws=roulette, rank = rankingowa, tournament = turniejowa\n",
    "parent_selection_type = \"sss\"\n",
    "\n",
    "#w il =u punktach robic krzyzowanie?\n",
    "crossover_type = \"single_point\"\n",
    "\n",
    "#mutacja ma dzialac na ilu procent genow?\n",
    "#trzeba pamietac ile genow ma chromosom\n",
    "#1/ dlugosc chromosomu -> 1/11 = 9.09% \n",
    "mutation_type = \"random\"\n",
    "mutation_percent_genes = 10"
   ]
  },
  {
   "cell_type": "markdown",
   "id": "cf3baa88",
   "metadata": {},
   "source": [
    "## a) i c)"
   ]
  },
  {
   "cell_type": "markdown",
   "id": "8d5b9094",
   "metadata": {},
   "source": [
    "a) Program tworzył nowe pokolenia dopóki nie znajdzie rozwiązania z fitness równym \n",
    "1600. Gdy fitness 1600 zostanie osiągnięte, to algorytm przerwie działanie.\n",
    "\n",
    "c) Zmierz, ile czasu działał algorytm genetyczny. "
   ]
  },
  {
   "cell_type": "code",
   "execution_count": 4,
   "id": "a3d7140e",
   "metadata": {},
   "outputs": [
    {
     "name": "stdout",
     "output_type": "stream",
     "text": [
      "0.01807546615600586\n",
      "Parametery najlepszego rozwiązania : [0. 1. 1. 0. 1. 0. 1. 1. 0. 1. 0.]\n",
      "Fitness najlepszego rozwiązania = 1630\n",
      "Ile pokoleń minęło, aż do znalezienia najlepszego rozwiązania: 10\n"
     ]
    },
    {
     "data": {
      "image/png": "[encoded data removed]",
      "text/plain": [
       "<Figure size 432x288 with 1 Axes>"
      ]
     },
     "metadata": {
      "needs_background": "light"
     },
     "output_type": "display_data"
    },
    {
     "data": {
      "image/png": "[encoded data removed]",
      "text/plain": [
       "<Figure size 432x288 with 1 Axes>"
      ]
     },
     "execution_count": 4,
     "metadata": {},
     "output_type": "execute_result"
    }
   ],
   "source": [
    "#definiujemy funkcję fitness\n",
    "def fitness_func(solution, solution_idx):\n",
    "    total_weight = 0\n",
    "    total_value = 0\n",
    "    for i in range(len(solution)):\n",
    "        if solution[i] == 1:#czyli bierzemy przedmiot\n",
    "            total_weight += items[i][2]\n",
    "            total_value += items[i][1]\n",
    "    if total_weight > max_weight:\n",
    "        return 0\n",
    "    else:\n",
    "        return total_value\n",
    "\n",
    "fitness_function = fitness_func\n",
    "\n",
    "start = time.time()\n",
    "ga_instance = pygad.GA(gene_space=gene_space,\n",
    "                       num_generations=num_generations,\n",
    "                       num_parents_mating=num_parents_mating,\n",
    "                       fitness_func=fitness_function,\n",
    "                       stop_criteria=\"reach_1600\",\n",
    "                       sol_per_pop=sol_per_pop,\n",
    "                       num_genes=num_genes,\n",
    "                       parent_selection_type=parent_selection_type,\n",
    "                       keep_parents=keep_parents,\n",
    "                       crossover_type=crossover_type,\n",
    "                       mutation_type=mutation_type,\n",
    "                       mutation_percent_genes=mutation_percent_genes)\n",
    "\n",
    "#uruchomienie algorytmu\n",
    "ga_instance.run()\n",
    "end = time.time()\n",
    "print(end - start)\n",
    "\n",
    "\n",
    "#podsumowanie: najlepsze znalezione rozwiazanie (chromosom+ocena)\n",
    "solution, solution_fitness, solution_idx = ga_instance.best_solution()\n",
    "print(\"Parametery najlepszego rozwiązania : {solution}\".format(solution=solution))\n",
    "print(\"Fitness najlepszego rozwiązania = {solution_fitness}\".format(solution_fitness=solution_fitness))\n",
    "print(\"Ile pokoleń minęło, aż do znalezienia najlepszego rozwiązania: {generations_completed}\".format(generations_completed=ga_instance.generations_completed))\n",
    "#wyswietlenie wykresu: jak zmieniala sie ocena na przestrzeni pokolen\n",
    "ga_instance.plot_fitness()\n",
    "\n",
    "#na osi X sa kolejne pokolenia, a na osi Y fitness najlepszego rozwiazania w danym pokoleniu"
   ]
  },
  {
   "cell_type": "markdown",
   "id": "b33176a8",
   "metadata": {},
   "source": [
    "## d)"
   ]
  },
  {
   "cell_type": "markdown",
   "id": "5768b0ed",
   "metadata": {},
   "source": [
    "d) Zmierz czas 10 razy, zapisz wszystkie wyniki i podaj średnią z wyników. Ile średnio \n",
    "czasu zajmuje algorytmowi genetycznemu znalezienie rozwiązania"
   ]
  },
  {
   "cell_type": "code",
   "execution_count": 4,
   "id": "90c8a1fd",
   "metadata": {},
   "outputs": [
    {
     "name": "stdout",
     "output_type": "stream",
     "text": [
      "Średnia z czasów: 0.007154726982116699\n"
     ]
    }
   ],
   "source": [
    "czasy = []\n",
    "for i in range(10):\n",
    "    start = time.time()\n",
    "    #inicjacja algorytmu z powyzszymi parametrami wpisanymi w atrybuty\n",
    "    ga_instance = pygad.GA(gene_space=gene_space,\n",
    "                           num_generations=num_generations,\n",
    "                           num_parents_mating=num_parents_mating,\n",
    "                           fitness_func=fitness_function,\n",
    "                           stop_criteria=\"reach_1600\",\n",
    "                           sol_per_pop=sol_per_pop,\n",
    "                           num_genes=num_genes,\n",
    "                           parent_selection_type=parent_selection_type,\n",
    "                           keep_parents=keep_parents,\n",
    "                           crossover_type=crossover_type,\n",
    "                           mutation_type=mutation_type,\n",
    "                           mutation_percent_genes=mutation_percent_genes)\n",
    "\n",
    "    #uruchomienie algorytmu\n",
    "    ga_instance.run()\n",
    "    end = time.time()\n",
    "    czas = end - start\n",
    "    czasy.append(czas)\n",
    "    \n",
    "print(\"Średnia z czasów: {}\".format(numpy.mean(czasy)))"
   ]
  },
  {
   "cell_type": "code",
   "execution_count": null,
   "id": "e762f937",
   "metadata": {},
   "outputs": [],
   "source": []
  }
 ],
 "metadata": {
  "kernelspec": {
   "display_name": "Python 3",
   "language": "python",
   "name": "python3"
  },
  "language_info": {
   "codemirror_mode": {
    "name": "ipython",
    "version": 3
   },
   "file_extension": ".py",
   "mimetype": "text/x-python",
   "name": "python",
   "nbconvert_exporter": "python",
   "pygments_lexer": "ipython3",
   "version": "3.8.8"
  }
 },
 "nbformat": 4,
 "nbformat_minor": 5
}
