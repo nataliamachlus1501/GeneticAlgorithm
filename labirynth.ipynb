{
 "cells": [
  {
   "cell_type": "markdown",
   "id": "6d198e1b",
   "metadata": {},
   "source": [
    "## LABIRYNTH"
   ]
  },
  {
   "cell_type": "code",
   "execution_count": 2,
   "id": "ec8eaca7",
   "metadata": {},
   "outputs": [],
   "source": [
    "import math\n",
    "import pygad\n",
    "import matplotlib.pyplot as plt\n",
    "import numpy \n",
    "import time"
   ]
  },
  {
   "cell_type": "markdown",
   "id": "a32c75f8",
   "metadata": {},
   "source": [
    "## Problem inżynieryjny: stop metali"
   ]
  },
  {
   "cell_type": "markdown",
   "id": "5fab822e",
   "metadata": {},
   "source": [
    "## Problem drogi w labiryncie"
   ]
  },
  {
   "cell_type": "code",
   "execution_count": 5,
   "id": "2ba782c4",
   "metadata": {},
   "outputs": [],
   "source": [
    "#0 - niezamalowane pole, 1 - zamalowane pole\n",
    "maze = [[1,1,1,1,1,1,1,1,1,1,1,1],\n",
    "        [1,0,0,0,1,0,0,0,1,0,0,1],\n",
    "        [1,1,1,0,0,0,1,0,1,1,0,1],\n",
    "        [1,0,0,0,1,0,1,0,0,0,0,1],\n",
    "        [1,0,1,0,1,1,0,0,1,1,0,1],\n",
    "        [1,0,0,1,1,0,0,0,1,0,0,1],\n",
    "        [1,0,0,0,0,0,1,0,0,0,1,1],\n",
    "        [1,0,1,0,0,1,1,0,1,0,0,1],\n",
    "        [1,0,1,1,1,0,0,0,1,1,0,1],\n",
    "        [1,0,1,0,1,1,0,1,0,1,0,1],\n",
    "        [1,0,1,0,0,0,0,0,0,0,0,1],\n",
    "        [1,1,1,1,1,1,1,1,1,1,1,1]]\n",
    "\n",
    "#0 - lewo, 1 - prawo, 2 - góra 3 - dół\n",
    "gene_space = [0, 1, 2, 3]\n",
    "\n",
    "num_genes = 30\n",
    "\n",
    "#ile chromsomów w populacji\n",
    "#ile genow ma chromosom\n",
    "sol_per_pop = 200\n",
    "\n",
    "#ile wylaniamy rodzicow do \"rozmanazania\" (okolo 50% populacji)\n",
    "#ile pokolen\n",
    "#ilu rodzicow zachowac co pokolenie(kilka procent)\n",
    "num_parents_mating = 100\n",
    "num_generations = 50\n",
    "keep_parents = 4\n",
    "\n",
    "#jaki typ selekcji rodzicow?\n",
    "#sss = steady, rws=roulette, rank = rankingowa, tournament = turniejowa\n",
    "#sss wybiera pewien procent najlepszych rodzicow, produkuje z nich potomstwo i zastepuje najgorsze chromosomy potomkami\n",
    "#reszta przezywa do nastepnego pokolenia\n",
    "parent_selection_type = \"sss\"\n",
    "\n",
    "#w ilu punktach robic krzyzowanie?\n",
    "crossover_type = \"single_point\"\n",
    "\n",
    "#mutacja ma dzialac na ilu procent genow?\n",
    "#1/ dlugosc chromosomu -> 1/30 = 3.3% wiec 4% jest ok\n",
    "mutation_type = \"random\"\n",
    "mutation_percent_genes = 4\n"
   ]
  },
  {
   "cell_type": "code",
   "execution_count": 6,
   "id": "1744b775",
   "metadata": {},
   "outputs": [],
   "source": [
    "def move(coordinate, direction):\n",
    "    \n",
    "    cordinate = list(coordinate)\n",
    "    \n",
    "    #lewo\n",
    "    if direction == 0 and maze[cordinate[0] - 1][cordinate[1]] == 0:\n",
    "        cordinate[0] -= 1\n",
    "    #prawo\n",
    "    elif direction == 1 and maze[cordinate[0] + 1][cordinate[1]] == 0:\n",
    "        cordinate[0] += 1\n",
    "    #góra\n",
    "    elif direction == 2 and maze[cordinate[0]][cordinate[1] - 1] == 0:\n",
    "        cordinate[1] -= 1   \n",
    "    #dół\n",
    "    elif direction == 3 and maze[cordinate[0]][cordinate[1] + 1] == 0:\n",
    "        cordinate[1] += 1\n",
    "    \n",
    "    cordinate_tuple = tuple(cordinate)\n",
    "    \n",
    "    return cordinate_tuple"
   ]
  },
  {
   "cell_type": "code",
   "execution_count": 7,
   "id": "f9c62319",
   "metadata": {},
   "outputs": [],
   "source": [
    "def fitness(solution, solution_idx):\n",
    "    current_coord = (1,1)\n",
    "    prev_coord = (1,1)\n",
    "    end_coord = (10,10)\n",
    "    fitness = 0\n",
    "\n",
    "    for gene in solution:\n",
    "        current_coord = move(current_coord, gene)\n",
    "        if prev_coord == current_coord:\n",
    "            fitness += 50 #kara za uderzenie w ścianę\n",
    "        if current_coord == (1,1):\n",
    "            fitness += 5000 #kara za powrót do miejsca początkowego\n",
    "        if current_coord == (10,10):#jeżeli doszedł do końca\n",
    "            return 1000 \n",
    "             \n",
    "        prev_coord = current_coord\n",
    "        \n",
    "    if current_coord != (10,10):\n",
    "        fitness += 2000\n",
    "           \n",
    "    #metryka euklidesowa\n",
    "    #distance = sqrt((end_coord[0] - current_coord[0]) ** 2 + (end_coord[1] - current_coord[1]) ** 2)\n",
    "    \n",
    "    #metryka taksówkowa\n",
    "    distance = abs(current_coord[0] - end_coord[0]) + abs(current_coord[1] - end_coord[1])\n",
    "    \n",
    "    fitness += 1000*distance\n",
    "    #chcemy im większa fitness tym gorzej\n",
    "    \n",
    "    return fitness*(-1)"
   ]
  },
  {
   "cell_type": "code",
   "execution_count": 8,
   "id": "3196b54c",
   "metadata": {},
   "outputs": [],
   "source": [
    "def draw_maze(maze,solution):\n",
    "    coordinates_zeros = []\n",
    "    coordinates_ones = []\n",
    "    coordinates = []\n",
    "    current_coord = (1,1)\n",
    "    \n",
    "    for i in range(12):\n",
    "        for j in range(12):\n",
    "            if maze[i][j] == 0:\n",
    "                coordinate_zero = (i,j)\n",
    "                coordinates_zeros.append(coordinate_zero)\n",
    "            else:\n",
    "                coordinate_one = (i,j)\n",
    "                coordinates_ones.append(coordinate_one)\n",
    "                \n",
    "    coordinates.append(current_coord)\n",
    "    for gene in solution:\n",
    "        if current_coord == (10,10): #jeżeli doszedł do końca\n",
    "                break\n",
    "        else:\n",
    "            current_coord = move(current_coord, gene)\n",
    "            coordinates.append(current_coord)\n",
    "            \n",
    "    fig, ax = plt.subplots(figsize= (8,8))\n",
    "    for (a,b) in coordinates_zeros:\n",
    "        ax.scatter(b,-a,color=\"#8EE5EE\", marker = ',', s = 1400, edgecolor='None')\n",
    "    for (a,b) in coordinates_ones:\n",
    "        ax.scatter(b,-a,color=\"#808080\", marker = ',', s = 1400, edgecolor='None')\n",
    "    ax.scatter(1,-1,color=\"#FF7D40\", marker = ',', s = 1400, edgecolor='None')\n",
    "    ax.scatter(10,-10,color=\"#228B22\", marker = ',', s = 1400, edgecolor='None')\n",
    "    for (a,b) in coordinates:\n",
    "        ax.scatter(b,-a,color=\"black\", marker = 9, s = 90, edgecolor='None')"
   ]
  },
  {
   "cell_type": "code",
   "execution_count": 9,
   "id": "e5ba8eb9",
   "metadata": {},
   "outputs": [
    {
     "name": "stdout",
     "output_type": "stream",
     "text": [
      "Parametery najlepszego rozwiązania : [3. 3. 1. 3. 3. 0. 0. 3. 3. 1. 1. 1. 1. 3. 1. 3. 2. 2. 3. 3. 1. 1. 3. 1.\n",
      " 3. 3. 1. 1. 3. 1.]\n",
      "Fitness najlepszego rozwiązania = 1000\n",
      "Ile pokoleń minęło, aż do znalezienia najlepszego rozwiązania: 16\n"
     ]
    },
    {
     "data": {
      "image/png": "[encoded data removed]",
      "text/plain": [
       "<Figure size 432x288 with 1 Axes>"
      ]
     },
     "metadata": {
      "needs_background": "light"
     },
     "output_type": "display_data"
    },
    {
     "data": {
      "image/png": "[encoded data removed]",
      "text/plain": [
       "<Figure size 576x576 with 1 Axes>"
      ]
     },
     "metadata": {
      "needs_background": "light"
     },
     "output_type": "display_data"
    }
   ],
   "source": [
    "fitness_function = fitness\n",
    "\n",
    "ga_instance = pygad.GA(gene_space=gene_space,\n",
    "                       num_generations=num_generations,\n",
    "                       num_parents_mating=num_parents_mating,\n",
    "                       fitness_func=fitness_function,\n",
    "                       stop_criteria=\"reach_1000\",\n",
    "                       sol_per_pop=sol_per_pop,\n",
    "                       num_genes=num_genes,\n",
    "                       parent_selection_type=parent_selection_type,\n",
    "                       keep_parents=keep_parents,\n",
    "                       crossover_type=crossover_type,\n",
    "                       mutation_type=mutation_type,\n",
    "                       mutation_percent_genes=mutation_percent_genes)\n",
    "\n",
    "#uruchomienie algorytmu\n",
    "ga_instance.run()\n",
    "\n",
    "#podsumowanie: najlepsze znalezione rozwiazanie (chromosom+ocena)\n",
    "solution, solution_fitness, solution_idx = ga_instance.best_solution()\n",
    "print(\"Parametery najlepszego rozwiązania : {solution}\".format(solution=solution)) #tu dostaje liste ruchow\n",
    "print(\"Fitness najlepszego rozwiązania = {solution_fitness}\".format(solution_fitness=solution_fitness))\n",
    "print(\"Ile pokoleń minęło, aż do znalezienia najlepszego rozwiązania: {generations_completed}\".format(generations_completed=ga_instance.generations_completed))\n",
    "#wyswietlenie wykresu: jak zmieniala sie ocena na przestrzeni pokolen\n",
    "ga_instance.plot_fitness()\n",
    "        \n",
    "draw_maze(maze,solution)"
   ]
  },
  {
   "cell_type": "markdown",
   "id": "0f852a8e",
   "metadata": {},
   "source": [
    "## Średni czas 10 uruchomień"
   ]
  },
  {
   "cell_type": "code",
   "execution_count": 9,
   "id": "d7314499",
   "metadata": {},
   "outputs": [
    {
     "name": "stdout",
     "output_type": "stream",
     "text": [
      "Średnia z czasów: 0.24722709655761718\n"
     ]
    }
   ],
   "source": [
    "czasy = []\n",
    "for i in range(10):\n",
    "    start = time.time()\n",
    "    #inicjacja algorytmu z powyzszymi parametrami wpisanymi w atrybuty\n",
    "    ga_instance = pygad.GA(gene_space=gene_space,\n",
    "                           num_generations=num_generations,\n",
    "                           num_parents_mating=num_parents_mating,\n",
    "                           fitness_func=fitness,\n",
    "                           stop_criteria=\"reach_1000\",\n",
    "                           sol_per_pop=sol_per_pop,\n",
    "                           num_genes=num_genes,\n",
    "                           parent_selection_type=parent_selection_type,\n",
    "                           keep_parents=keep_parents,\n",
    "                           crossover_type=crossover_type,\n",
    "                           mutation_type=mutation_type,\n",
    "                           mutation_percent_genes=mutation_percent_genes)\n",
    "\n",
    "    #uruchomienie algorytmu\n",
    "    ga_instance.run()\n",
    "    end = time.time()\n",
    "    czas = end - start\n",
    "    czasy.append(czas)\n",
    "    \n",
    "print(\"Średnia z czasów: {}\".format(numpy.mean(czasy)))"
   ]
  }
 ],
 "metadata": {
  "kernelspec": {
   "display_name": "Python 3",
   "language": "python",
   "name": "python3"
  },
  "language_info": {
   "codemirror_mode": {
    "name": "ipython",
    "version": 3
   },
   "file_extension": ".py",
   "mimetype": "text/x-python",
   "name": "python",
   "nbconvert_exporter": "python",
   "pygments_lexer": "ipython3",
   "version": "3.8.8"
  }
 },
 "nbformat": 4,
 "nbformat_minor": 5
}
